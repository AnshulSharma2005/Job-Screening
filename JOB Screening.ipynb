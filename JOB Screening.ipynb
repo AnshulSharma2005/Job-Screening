{
  "nbformat": 4,
  "nbformat_minor": 0,
  "metadata": {
    "colab": {
      "provenance": []
    },
    "kernelspec": {
      "name": "python3",
      "display_name": "Python 3"
    },
    "language_info": {
      "name": "python"
    }
  },
  "cells": [
    {
      "cell_type": "code",
      "source": [
        "!pip install PyMuPDF\n",
        "!pip install nltk"
      ],
      "metadata": {
        "colab": {
          "base_uri": "https://localhost:8080/"
        },
        "id": "FiwsatoLAfKL",
        "outputId": "0bec8036-c2e4-4dfe-f87c-e66c134d4cea"
      },
      "execution_count": 1,
      "outputs": [
        {
          "output_type": "stream",
          "name": "stdout",
          "text": [
            "Collecting PyMuPDF\n",
            "  Downloading pymupdf-1.25.5-cp39-abi3-manylinux2014_x86_64.manylinux_2_17_x86_64.whl.metadata (3.4 kB)\n",
            "Downloading pymupdf-1.25.5-cp39-abi3-manylinux2014_x86_64.manylinux_2_17_x86_64.whl (20.0 MB)\n",
            "\u001b[2K   \u001b[90m━━━━━━━━━━━━━━━━━━━━━━━━━━━━━━━━━━━━━━━━\u001b[0m \u001b[32m20.0/20.0 MB\u001b[0m \u001b[31m27.5 MB/s\u001b[0m eta \u001b[36m0:00:00\u001b[0m\n",
            "\u001b[?25hInstalling collected packages: PyMuPDF\n",
            "Successfully installed PyMuPDF-1.25.5\n",
            "Requirement already satisfied: nltk in /usr/local/lib/python3.11/dist-packages (3.9.1)\n",
            "Requirement already satisfied: click in /usr/local/lib/python3.11/dist-packages (from nltk) (8.1.8)\n",
            "Requirement already satisfied: joblib in /usr/local/lib/python3.11/dist-packages (from nltk) (1.4.2)\n",
            "Requirement already satisfied: regex>=2021.8.3 in /usr/local/lib/python3.11/dist-packages (from nltk) (2024.11.6)\n",
            "Requirement already satisfied: tqdm in /usr/local/lib/python3.11/dist-packages (from nltk) (4.67.1)\n"
          ]
        }
      ]
    },
    {
      "cell_type": "code",
      "source": [
        "from google.colab import files\n",
        "uploaded = files.upload()"
      ],
      "metadata": {
        "colab": {
          "base_uri": "https://localhost:8080/",
          "height": 73
        },
        "id": "MZS-dlkCCzvh",
        "outputId": "d67d2edf-1b7e-4386-daed-e879dab1e8f3"
      },
      "execution_count": 4,
      "outputs": [
        {
          "output_type": "display_data",
          "data": {
            "text/plain": [
              "<IPython.core.display.HTML object>"
            ],
            "text/html": [
              "\n",
              "     <input type=\"file\" id=\"files-f18f4821-0735-44d1-a0df-860589379f19\" name=\"files[]\" multiple disabled\n",
              "        style=\"border:none\" />\n",
              "     <output id=\"result-f18f4821-0735-44d1-a0df-860589379f19\">\n",
              "      Upload widget is only available when the cell has been executed in the\n",
              "      current browser session. Please rerun this cell to enable.\n",
              "      </output>\n",
              "      <script>// Copyright 2017 Google LLC\n",
              "//\n",
              "// Licensed under the Apache License, Version 2.0 (the \"License\");\n",
              "// you may not use this file except in compliance with the License.\n",
              "// You may obtain a copy of the License at\n",
              "//\n",
              "//      http://www.apache.org/licenses/LICENSE-2.0\n",
              "//\n",
              "// Unless required by applicable law or agreed to in writing, software\n",
              "// distributed under the License is distributed on an \"AS IS\" BASIS,\n",
              "// WITHOUT WARRANTIES OR CONDITIONS OF ANY KIND, either express or implied.\n",
              "// See the License for the specific language governing permissions and\n",
              "// limitations under the License.\n",
              "\n",
              "/**\n",
              " * @fileoverview Helpers for google.colab Python module.\n",
              " */\n",
              "(function(scope) {\n",
              "function span(text, styleAttributes = {}) {\n",
              "  const element = document.createElement('span');\n",
              "  element.textContent = text;\n",
              "  for (const key of Object.keys(styleAttributes)) {\n",
              "    element.style[key] = styleAttributes[key];\n",
              "  }\n",
              "  return element;\n",
              "}\n",
              "\n",
              "// Max number of bytes which will be uploaded at a time.\n",
              "const MAX_PAYLOAD_SIZE = 100 * 1024;\n",
              "\n",
              "function _uploadFiles(inputId, outputId) {\n",
              "  const steps = uploadFilesStep(inputId, outputId);\n",
              "  const outputElement = document.getElementById(outputId);\n",
              "  // Cache steps on the outputElement to make it available for the next call\n",
              "  // to uploadFilesContinue from Python.\n",
              "  outputElement.steps = steps;\n",
              "\n",
              "  return _uploadFilesContinue(outputId);\n",
              "}\n",
              "\n",
              "// This is roughly an async generator (not supported in the browser yet),\n",
              "// where there are multiple asynchronous steps and the Python side is going\n",
              "// to poll for completion of each step.\n",
              "// This uses a Promise to block the python side on completion of each step,\n",
              "// then passes the result of the previous step as the input to the next step.\n",
              "function _uploadFilesContinue(outputId) {\n",
              "  const outputElement = document.getElementById(outputId);\n",
              "  const steps = outputElement.steps;\n",
              "\n",
              "  const next = steps.next(outputElement.lastPromiseValue);\n",
              "  return Promise.resolve(next.value.promise).then((value) => {\n",
              "    // Cache the last promise value to make it available to the next\n",
              "    // step of the generator.\n",
              "    outputElement.lastPromiseValue = value;\n",
              "    return next.value.response;\n",
              "  });\n",
              "}\n",
              "\n",
              "/**\n",
              " * Generator function which is called between each async step of the upload\n",
              " * process.\n",
              " * @param {string} inputId Element ID of the input file picker element.\n",
              " * @param {string} outputId Element ID of the output display.\n",
              " * @return {!Iterable<!Object>} Iterable of next steps.\n",
              " */\n",
              "function* uploadFilesStep(inputId, outputId) {\n",
              "  const inputElement = document.getElementById(inputId);\n",
              "  inputElement.disabled = false;\n",
              "\n",
              "  const outputElement = document.getElementById(outputId);\n",
              "  outputElement.innerHTML = '';\n",
              "\n",
              "  const pickedPromise = new Promise((resolve) => {\n",
              "    inputElement.addEventListener('change', (e) => {\n",
              "      resolve(e.target.files);\n",
              "    });\n",
              "  });\n",
              "\n",
              "  const cancel = document.createElement('button');\n",
              "  inputElement.parentElement.appendChild(cancel);\n",
              "  cancel.textContent = 'Cancel upload';\n",
              "  const cancelPromise = new Promise((resolve) => {\n",
              "    cancel.onclick = () => {\n",
              "      resolve(null);\n",
              "    };\n",
              "  });\n",
              "\n",
              "  // Wait for the user to pick the files.\n",
              "  const files = yield {\n",
              "    promise: Promise.race([pickedPromise, cancelPromise]),\n",
              "    response: {\n",
              "      action: 'starting',\n",
              "    }\n",
              "  };\n",
              "\n",
              "  cancel.remove();\n",
              "\n",
              "  // Disable the input element since further picks are not allowed.\n",
              "  inputElement.disabled = true;\n",
              "\n",
              "  if (!files) {\n",
              "    return {\n",
              "      response: {\n",
              "        action: 'complete',\n",
              "      }\n",
              "    };\n",
              "  }\n",
              "\n",
              "  for (const file of files) {\n",
              "    const li = document.createElement('li');\n",
              "    li.append(span(file.name, {fontWeight: 'bold'}));\n",
              "    li.append(span(\n",
              "        `(${file.type || 'n/a'}) - ${file.size} bytes, ` +\n",
              "        `last modified: ${\n",
              "            file.lastModifiedDate ? file.lastModifiedDate.toLocaleDateString() :\n",
              "                                    'n/a'} - `));\n",
              "    const percent = span('0% done');\n",
              "    li.appendChild(percent);\n",
              "\n",
              "    outputElement.appendChild(li);\n",
              "\n",
              "    const fileDataPromise = new Promise((resolve) => {\n",
              "      const reader = new FileReader();\n",
              "      reader.onload = (e) => {\n",
              "        resolve(e.target.result);\n",
              "      };\n",
              "      reader.readAsArrayBuffer(file);\n",
              "    });\n",
              "    // Wait for the data to be ready.\n",
              "    let fileData = yield {\n",
              "      promise: fileDataPromise,\n",
              "      response: {\n",
              "        action: 'continue',\n",
              "      }\n",
              "    };\n",
              "\n",
              "    // Use a chunked sending to avoid message size limits. See b/62115660.\n",
              "    let position = 0;\n",
              "    do {\n",
              "      const length = Math.min(fileData.byteLength - position, MAX_PAYLOAD_SIZE);\n",
              "      const chunk = new Uint8Array(fileData, position, length);\n",
              "      position += length;\n",
              "\n",
              "      const base64 = btoa(String.fromCharCode.apply(null, chunk));\n",
              "      yield {\n",
              "        response: {\n",
              "          action: 'append',\n",
              "          file: file.name,\n",
              "          data: base64,\n",
              "        },\n",
              "      };\n",
              "\n",
              "      let percentDone = fileData.byteLength === 0 ?\n",
              "          100 :\n",
              "          Math.round((position / fileData.byteLength) * 100);\n",
              "      percent.textContent = `${percentDone}% done`;\n",
              "\n",
              "    } while (position < fileData.byteLength);\n",
              "  }\n",
              "\n",
              "  // All done.\n",
              "  yield {\n",
              "    response: {\n",
              "      action: 'complete',\n",
              "    }\n",
              "  };\n",
              "}\n",
              "\n",
              "scope.google = scope.google || {};\n",
              "scope.google.colab = scope.google.colab || {};\n",
              "scope.google.colab._files = {\n",
              "  _uploadFiles,\n",
              "  _uploadFilesContinue,\n",
              "};\n",
              "})(self);\n",
              "</script> "
            ]
          },
          "metadata": {}
        },
        {
          "output_type": "stream",
          "name": "stdout",
          "text": [
            "Saving Dataset (1).zip to Dataset (1).zip\n"
          ]
        }
      ]
    },
    {
      "cell_type": "code",
      "source": [
        "import zipfile\n",
        "\n",
        "zip_path = \"/content/Dataset (1).zip\"\n",
        "extract_path = \"/content/use_cases\"\n",
        "\n",
        "with zipfile.ZipFile(zip_path, 'r') as zip_ref:\n",
        "    zip_ref.extractall(extract_path)\n",
        "\n",
        "print(\"✅ Extracted to:\", extract_path)\n"
      ],
      "metadata": {
        "colab": {
          "base_uri": "https://localhost:8080/"
        },
        "id": "u4sfuzoZDE9o",
        "outputId": "4d7ec8e5-37d4-4461-8ff2-5e2884220692"
      },
      "execution_count": 5,
      "outputs": [
        {
          "output_type": "stream",
          "name": "stdout",
          "text": [
            "✅ Extracted to: /content/use_cases\n"
          ]
        }
      ]
    },
    {
      "cell_type": "code",
      "source": [
        "import os\n",
        "import fitz  # PyMuPDF\n",
        "import pandas as pd\n",
        "import nltk\n",
        "from sklearn.feature_extraction.text import TfidfVectorizer\n",
        "from sklearn.metrics.pairwise import cosine_similarity\n",
        "import zipfile\n",
        "nltk.download('punkt')\n"
      ],
      "metadata": {
        "colab": {
          "base_uri": "https://localhost:8080/"
        },
        "id": "E76mm4ilCn9l",
        "outputId": "2a39fc3d-9b7c-4c70-bbb3-dd2c8a314aac"
      },
      "execution_count": 2,
      "outputs": [
        {
          "output_type": "stream",
          "name": "stderr",
          "text": [
            "[nltk_data] Downloading package punkt to /root/nltk_data...\n",
            "[nltk_data]   Unzipping tokenizers/punkt.zip.\n"
          ]
        },
        {
          "output_type": "execute_result",
          "data": {
            "text/plain": [
              "True"
            ]
          },
          "metadata": {},
          "execution_count": 2
        }
      ]
    },
    {
      "cell_type": "code",
      "source": [
        "from zipfile import ZipFile\n",
        "with ZipFile(\"/content/Dataset (1).zip\", 'r') as zip_ref:\n",
        "    zip_ref.extractall(\"/content/use_cases\")"
      ],
      "metadata": {
        "id": "lOJOkLnJCqwr"
      },
      "execution_count": 6,
      "outputs": []
    },
    {
      "cell_type": "code",
      "source": [
        "def extract_text_from_pdf(pdf_path):\n",
        "    try:\n",
        "        doc = fitz.open(pdf_path)\n",
        "        text = \"\"\n",
        "        for page in doc:\n",
        "            text += page.get_text()\n",
        "        return text\n",
        "    except Exception as e:\n",
        "        print(f\"Failed to extract {pdf_path}: {e}\")\n",
        "        return \"\"\n"
      ],
      "metadata": {
        "id": "yN14gqxjDNS_"
      },
      "execution_count": 7,
      "outputs": []
    },
    {
      "cell_type": "code",
      "source": [
        "def get_all_pdfs(base_dir):\n",
        "    pdfs = []\n",
        "    for root, dirs, files in os.walk(base_dir):\n",
        "        for file in files:\n",
        "            if file.endswith(\".pdf\"):\n",
        "                pdfs.append(os.path.join(root, file))\n",
        "    return pdfs\n",
        ""
      ],
      "metadata": {
        "id": "9_HyhCCMDPU4"
      },
      "execution_count": 8,
      "outputs": []
    },
    {
      "cell_type": "code",
      "source": [
        "usecase_5_jd_path = \"/content/use_cases/Dataset/[Usecase 5] AI-Powered Job Application Screening System​/job_description.csv\"\n",
        "try:\n",
        "    jd_df = pd.read_csv(usecase_5_jd_path, encoding='ISO-8859-1')\n",
        "except:\n",
        "    jd_df = pd.read_csv(usecase_5_jd_path, encoding='latin1')\n",
        "\n",
        "jd_text = \" \".join(jd_df.iloc[0].dropna().astype(str).values)\n",
        "\n",
        "resume_dir = \"/content/use_cases/Dataset/[Usecase 5] AI-Powered Job Application Screening System​/CVs1\"\n",
        "resume_texts = {}\n",
        "\n",
        "for file in os.listdir(resume_dir):\n",
        "    if file.endswith(\".pdf\"):\n",
        "        path = os.path.join(resume_dir, file)\n",
        "        resume_texts[file] = extract_text_from_pdf(path)"
      ],
      "metadata": {
        "id": "gdvCW8p9DUAV"
      },
      "execution_count": 9,
      "outputs": []
    },
    {
      "cell_type": "code",
      "source": [
        "conversation_dir = \"/content/use_cases/Dataset/[Usecase 7] AI-Driven Customer Support Enhancing Efficiency Through Multiagents​/Conversation\"\n",
        "conversation_texts = {}\n",
        "for file in os.listdir(conversation_dir):\n",
        "    if file.endswith(\".txt\"):\n",
        "        with open(os.path.join(conversation_dir, file), 'r', encoding='utf-8') as f:\n",
        "            conversation_texts[file] = f.read()\n"
      ],
      "metadata": {
        "id": "3vJFm9dGDYdl"
      },
      "execution_count": 10,
      "outputs": []
    },
    {
      "cell_type": "code",
      "source": [
        "all_docs = [jd_text] + list(resume_texts.values()) + list(conversation_texts.values())\n",
        "vectorizer = TfidfVectorizer(stop_words='english')\n",
        "tfidf_matrix = vectorizer.fit_transform(all_docs)\n"
      ],
      "metadata": {
        "id": "BO6vSV_0Db3v"
      },
      "execution_count": 11,
      "outputs": []
    },
    {
      "cell_type": "code",
      "source": [
        "jd_vector = tfidf_matrix[0:1]\n",
        "resume_vectors = tfidf_matrix[1:1 + len(resume_texts)]\n",
        "support_vectors = tfidf_matrix[1 + len(resume_texts):]"
      ],
      "metadata": {
        "id": "zoHxMTitDfHv"
      },
      "execution_count": 12,
      "outputs": []
    },
    {
      "cell_type": "code",
      "source": [
        "jd_vector = tfidf_matrix[0:1]\n",
        "resume_vectors = tfidf_matrix[1:1 + len(resume_texts)]\n",
        "support_vectors = tfidf_matrix[1 + len(resume_texts):]\n",
        "\n",
        "resume_similarities = cosine_similarity(jd_vector, resume_vectors).flatten()\n",
        "support_similarities = cosine_similarity(jd_vector, support_vectors).flatten()\n"
      ],
      "metadata": {
        "id": "BMjpsQlZEhg9"
      },
      "execution_count": 16,
      "outputs": []
    },
    {
      "cell_type": "code",
      "source": [
        "print(\"\\n\\n🧾 Resume Screening Results:\\n\")\n",
        "THRESHOLD = 80\n",
        "if 'resume_similarities' in locals():\n",
        "    for i, resume_name in enumerate(resume_texts.keys()):\n",
        "        score = round(resume_similarities[i] * 100, 2)\n",
        "        status = \"Shortlisted ✅\" if score >= THRESHOLD else \"Not Shortlisted ❌\"\n",
        "        print(f\"{resume_name}: {score}% match - {status}\")\n",
        "else:\n",
        "    print(\"Error: resume_similarities is not defined.\")\n",
        "\n",
        "print(\"\\n\\n💬 Customer Support Ticket Match Results:\\n\")\n",
        "if 'support_similarities' in locals():\n",
        "    for i, support_name in enumerate(conversation_texts.keys()):\n",
        "        score = round(support_similarities[i] * 100, 2)\n",
        "        print(f\"{support_name}: {score}% semantic relevance to job description\")\n",
        "else:\n",
        "    print(\"Error: support_similarities is not defined.\")\n"
      ],
      "metadata": {
        "colab": {
          "base_uri": "https://localhost:8080/"
        },
        "id": "LBhy3wtBDjKx",
        "outputId": "50996448-2b69-46e5-c12d-4bb300d8a8ac"
      },
      "execution_count": 17,
      "outputs": [
        {
          "output_type": "stream",
          "name": "stdout",
          "text": [
            "\n",
            "\n",
            "🧾 Resume Screening Results:\n",
            "\n",
            "C7733.pdf: 6.72% match - Not Shortlisted ❌\n",
            "C9884.pdf: 4.78% match - Not Shortlisted ❌\n",
            "C8760.pdf: 3.49% match - Not Shortlisted ❌\n",
            "C4331.pdf: 3.49% match - Not Shortlisted ❌\n",
            "C4999.pdf: 3.93% match - Not Shortlisted ❌\n",
            "C2287.pdf: 4.41% match - Not Shortlisted ❌\n",
            "C7543.pdf: 6.47% match - Not Shortlisted ❌\n",
            "C4760.pdf: 3.96% match - Not Shortlisted ❌\n",
            "C3315.pdf: 4.97% match - Not Shortlisted ❌\n",
            "C5451.pdf: 5.9% match - Not Shortlisted ❌\n",
            "C9533.pdf: 3.96% match - Not Shortlisted ❌\n",
            "C1061.pdf: 3.78% match - Not Shortlisted ❌\n",
            "C1446.pdf: 5.94% match - Not Shortlisted ❌\n",
            "C2144.pdf: 4.42% match - Not Shortlisted ❌\n",
            "C3912.pdf: 5.47% match - Not Shortlisted ❌\n",
            "C4444.pdf: 4.34% match - Not Shortlisted ❌\n",
            "C2546.pdf: 6.29% match - Not Shortlisted ❌\n",
            "C3445.pdf: 3.68% match - Not Shortlisted ❌\n",
            "C4307.pdf: 5.33% match - Not Shortlisted ❌\n",
            "C5767.pdf: 5.71% match - Not Shortlisted ❌\n",
            "C1212.pdf: 6.23% match - Not Shortlisted ❌\n",
            "C8810.pdf: 5.14% match - Not Shortlisted ❌\n",
            "C3142.pdf: 3.83% match - Not Shortlisted ❌\n",
            "C7527.pdf: 5.48% match - Not Shortlisted ❌\n",
            "C3045.pdf: 4.65% match - Not Shortlisted ❌\n",
            "C2775.pdf: 6.22% match - Not Shortlisted ❌\n",
            "C7497.pdf: 6.85% match - Not Shortlisted ❌\n",
            "C2256.pdf: 5.68% match - Not Shortlisted ❌\n",
            "C4021.pdf: 5.28% match - Not Shortlisted ❌\n",
            "C7032.pdf: 5.7% match - Not Shortlisted ❌\n",
            "C8063.pdf: 5.27% match - Not Shortlisted ❌\n",
            "C6140.pdf: 3.29% match - Not Shortlisted ❌\n",
            "C8730.pdf: 2.41% match - Not Shortlisted ❌\n",
            "C2235.pdf: 4.09% match - Not Shortlisted ❌\n",
            "C3169.pdf: 5.37% match - Not Shortlisted ❌\n",
            "C2872.pdf: 3.51% match - Not Shortlisted ❌\n",
            "C2430.pdf: 2.23% match - Not Shortlisted ❌\n",
            "C3539.pdf: 5.96% match - Not Shortlisted ❌\n",
            "C6357.pdf: 7.67% match - Not Shortlisted ❌\n",
            "C3771.pdf: 3.61% match - Not Shortlisted ❌\n",
            "C8203.pdf: 3.24% match - Not Shortlisted ❌\n",
            "C9142.pdf: 3.47% match - Not Shortlisted ❌\n",
            "C1547.pdf: 2.12% match - Not Shortlisted ❌\n",
            "C4573.pdf: 5.31% match - Not Shortlisted ❌\n",
            "C1789.pdf: 4.12% match - Not Shortlisted ❌\n",
            "C4919.pdf: 5.25% match - Not Shortlisted ❌\n",
            "C4256.pdf: 6.75% match - Not Shortlisted ❌\n",
            "C6239.pdf: 2.49% match - Not Shortlisted ❌\n",
            "C3863.pdf: 3.31% match - Not Shortlisted ❌\n",
            "C7242.pdf: 3.98% match - Not Shortlisted ❌\n",
            "C2139.pdf: 5.34% match - Not Shortlisted ❌\n",
            "C7869.pdf: 4.77% match - Not Shortlisted ❌\n",
            "C2098.pdf: 4.98% match - Not Shortlisted ❌\n",
            "C6129.pdf: 6.19% match - Not Shortlisted ❌\n",
            "C9628.pdf: 5.58% match - Not Shortlisted ❌\n",
            "C2652.pdf: 3.54% match - Not Shortlisted ❌\n",
            "C6776.pdf: 6.05% match - Not Shortlisted ❌\n",
            "C4742.pdf: 7.05% match - Not Shortlisted ❌\n",
            "C2603.pdf: 3.78% match - Not Shortlisted ❌\n",
            "C9369.pdf: 2.97% match - Not Shortlisted ❌\n",
            "C7318.pdf: 4.24% match - Not Shortlisted ❌\n",
            "C5390.pdf: 3.6% match - Not Shortlisted ❌\n",
            "C3761.pdf: 5.73% match - Not Shortlisted ❌\n",
            "C9146.pdf: 5.3% match - Not Shortlisted ❌\n",
            "C4194.pdf: 4.92% match - Not Shortlisted ❌\n",
            "C7315.pdf: 5.68% match - Not Shortlisted ❌\n",
            "C1191.pdf: 4.36% match - Not Shortlisted ❌\n",
            "C4277.pdf: 6.98% match - Not Shortlisted ❌\n",
            "C3570.pdf: 4.99% match - Not Shortlisted ❌\n",
            "C6277.pdf: 5.34% match - Not Shortlisted ❌\n",
            "C9897.pdf: 5.57% match - Not Shortlisted ❌\n",
            "C8239.pdf: 4.94% match - Not Shortlisted ❌\n",
            "C2720.pdf: 5.82% match - Not Shortlisted ❌\n",
            "C2250.pdf: 4.08% match - Not Shortlisted ❌\n",
            "C8849.pdf: 7.19% match - Not Shortlisted ❌\n",
            "C5951.pdf: 5.59% match - Not Shortlisted ❌\n",
            "C7784.pdf: 7.03% match - Not Shortlisted ❌\n",
            "C9117.pdf: 5.34% match - Not Shortlisted ❌\n",
            "C7254.pdf: 3.58% match - Not Shortlisted ❌\n",
            "C6507.pdf: 3.7% match - Not Shortlisted ❌\n",
            "C4686.pdf: 6.21% match - Not Shortlisted ❌\n",
            "C7934.pdf: 2.08% match - Not Shortlisted ❌\n",
            "C1164.pdf: 4.11% match - Not Shortlisted ❌\n",
            "C7831.pdf: 5.88% match - Not Shortlisted ❌\n",
            "C6631.pdf: 5.3% match - Not Shortlisted ❌\n",
            "C3620.pdf: 6.93% match - Not Shortlisted ❌\n",
            "C5725.pdf: 6.53% match - Not Shortlisted ❌\n",
            "C9742.pdf: 3.72% match - Not Shortlisted ❌\n",
            "C7094.pdf: 3.39% match - Not Shortlisted ❌\n",
            "C1487.pdf: 3.56% match - Not Shortlisted ❌\n",
            "C1499.pdf: 6.86% match - Not Shortlisted ❌\n",
            "C7093.pdf: 3.82% match - Not Shortlisted ❌\n",
            "C9567.pdf: 2.16% match - Not Shortlisted ❌\n",
            "C5230.pdf: 4.71% match - Not Shortlisted ❌\n",
            "C1236.pdf: 5.82% match - Not Shortlisted ❌\n",
            "C1228.pdf: 5.35% match - Not Shortlisted ❌\n",
            "C7535.pdf: 6.64% match - Not Shortlisted ❌\n",
            "C1701.pdf: 7.29% match - Not Shortlisted ❌\n",
            "C3363.pdf: 4.09% match - Not Shortlisted ❌\n",
            "C5756.pdf: 3.98% match - Not Shortlisted ❌\n",
            "C9262.pdf: 5.35% match - Not Shortlisted ❌\n",
            "C8886.pdf: 6.51% match - Not Shortlisted ❌\n",
            "C7554.pdf: 5.33% match - Not Shortlisted ❌\n",
            "C2808.pdf: 3.43% match - Not Shortlisted ❌\n",
            "C6384.pdf: 5.03% match - Not Shortlisted ❌\n",
            "C2607.pdf: 5.26% match - Not Shortlisted ❌\n",
            "C6059.pdf: 2.23% match - Not Shortlisted ❌\n",
            "C1791.pdf: 4.76% match - Not Shortlisted ❌\n",
            "C5007.pdf: 4.74% match - Not Shortlisted ❌\n",
            "C9200.pdf: 6.12% match - Not Shortlisted ❌\n",
            "C8518.pdf: 3.12% match - Not Shortlisted ❌\n",
            "C9165.pdf: 7.04% match - Not Shortlisted ❌\n",
            "C1080.pdf: 5.06% match - Not Shortlisted ❌\n",
            "C4627.pdf: 4.19% match - Not Shortlisted ❌\n",
            "C6942.pdf: 5.71% match - Not Shortlisted ❌\n",
            "C5649.pdf: 4.76% match - Not Shortlisted ❌\n",
            "C7842.pdf: 4.51% match - Not Shortlisted ❌\n",
            "C7775.pdf: 5.94% match - Not Shortlisted ❌\n",
            "C7996.pdf: 3.89% match - Not Shortlisted ❌\n",
            "C3557.pdf: 4.77% match - Not Shortlisted ❌\n",
            "C3017.pdf: 4.8% match - Not Shortlisted ❌\n",
            "C6583.pdf: 4.63% match - Not Shortlisted ❌\n",
            "C5507.pdf: 5.22% match - Not Shortlisted ❌\n",
            "C6658.pdf: 5.01% match - Not Shortlisted ❌\n",
            "C1781.pdf: 6.34% match - Not Shortlisted ❌\n",
            "C3899.pdf: 5.64% match - Not Shortlisted ❌\n",
            "C7482.pdf: 2.44% match - Not Shortlisted ❌\n",
            "C4024.pdf: 4.78% match - Not Shortlisted ❌\n",
            "C2836.pdf: 5.35% match - Not Shortlisted ❌\n",
            "C5638.pdf: 2.08% match - Not Shortlisted ❌\n",
            "C8398.pdf: 5.88% match - Not Shortlisted ❌\n",
            "C5121.pdf: 4.47% match - Not Shortlisted ❌\n",
            "C9207.pdf: 6.19% match - Not Shortlisted ❌\n",
            "C4482.pdf: 3.83% match - Not Shortlisted ❌\n",
            "C6592.pdf: 3.47% match - Not Shortlisted ❌\n",
            "C5125.pdf: 5.4% match - Not Shortlisted ❌\n",
            "C7231.pdf: 3.37% match - Not Shortlisted ❌\n",
            "C4336.pdf: 1.89% match - Not Shortlisted ❌\n",
            "C1677.pdf: 2.34% match - Not Shortlisted ❌\n",
            "C3821.pdf: 5.36% match - Not Shortlisted ❌\n",
            "C7128.pdf: 5.28% match - Not Shortlisted ❌\n",
            "C9228.pdf: 4.52% match - Not Shortlisted ❌\n",
            "C8692.pdf: 2.02% match - Not Shortlisted ❌\n",
            "C3019.pdf: 3.76% match - Not Shortlisted ❌\n",
            "C6979.pdf: 5.91% match - Not Shortlisted ❌\n",
            "C9919.pdf: 5.99% match - Not Shortlisted ❌\n",
            "C8782.pdf: 7.62% match - Not Shortlisted ❌\n",
            "C6746.pdf: 5.13% match - Not Shortlisted ❌\n",
            "C4552.pdf: 6.06% match - Not Shortlisted ❌\n",
            "C5804.pdf: 4.16% match - Not Shortlisted ❌\n",
            "C9342.pdf: 2.28% match - Not Shortlisted ❌\n",
            "C9282.pdf: 2.2% match - Not Shortlisted ❌\n",
            "C8420.pdf: 4.87% match - Not Shortlisted ❌\n",
            "C5591.pdf: 3.72% match - Not Shortlisted ❌\n",
            "C6768.pdf: 2.0% match - Not Shortlisted ❌\n",
            "C7228.pdf: 3.29% match - Not Shortlisted ❌\n",
            "C5339.pdf: 5.5% match - Not Shortlisted ❌\n",
            "C1627.pdf: 5.02% match - Not Shortlisted ❌\n",
            "C3127.pdf: 6.86% match - Not Shortlisted ❌\n",
            "C7230.pdf: 4.96% match - Not Shortlisted ❌\n",
            "C3717.pdf: 5.17% match - Not Shortlisted ❌\n",
            "C3464.pdf: 5.1% match - Not Shortlisted ❌\n",
            "C3226.pdf: 3.9% match - Not Shortlisted ❌\n",
            "C7550.pdf: 3.55% match - Not Shortlisted ❌\n",
            "C7492.pdf: 5.49% match - Not Shortlisted ❌\n",
            "C8928.pdf: 4.79% match - Not Shortlisted ❌\n",
            "C9777.pdf: 3.89% match - Not Shortlisted ❌\n",
            "C4507.pdf: 3.1% match - Not Shortlisted ❌\n",
            "C5661.pdf: 4.0% match - Not Shortlisted ❌\n",
            "C9590.pdf: 5.1% match - Not Shortlisted ❌\n",
            "C6951.pdf: 6.12% match - Not Shortlisted ❌\n",
            "C7226.pdf: 6.56% match - Not Shortlisted ❌\n",
            "C6315.pdf: 6.37% match - Not Shortlisted ❌\n",
            "C4439.pdf: 4.75% match - Not Shortlisted ❌\n",
            "C1320.pdf: 3.8% match - Not Shortlisted ❌\n",
            "C2838.pdf: 4.49% match - Not Shortlisted ❌\n",
            "C1161.pdf: 7.27% match - Not Shortlisted ❌\n",
            "C9779.pdf: 7.14% match - Not Shortlisted ❌\n",
            "C4602.pdf: 5.11% match - Not Shortlisted ❌\n",
            "C9534.pdf: 5.2% match - Not Shortlisted ❌\n",
            "C8676.pdf: 5.43% match - Not Shortlisted ❌\n",
            "C1796.pdf: 4.02% match - Not Shortlisted ❌\n",
            "C8564.pdf: 6.14% match - Not Shortlisted ❌\n",
            "C9104.pdf: 3.53% match - Not Shortlisted ❌\n",
            "C3627.pdf: 7.26% match - Not Shortlisted ❌\n",
            "C2669.pdf: 3.63% match - Not Shortlisted ❌\n",
            "C3830.pdf: 6.16% match - Not Shortlisted ❌\n",
            "C5786.pdf: 3.89% match - Not Shortlisted ❌\n",
            "C9945.pdf: 6.01% match - Not Shortlisted ❌\n",
            "C6302.pdf: 8.15% match - Not Shortlisted ❌\n",
            "C4523.pdf: 7.25% match - Not Shortlisted ❌\n",
            "C3014.pdf: 5.61% match - Not Shortlisted ❌\n",
            "C1070.pdf: 4.15% match - Not Shortlisted ❌\n",
            "C8631.pdf: 5.32% match - Not Shortlisted ❌\n",
            "C9677.pdf: 4.96% match - Not Shortlisted ❌\n",
            "C7979.pdf: 5.5% match - Not Shortlisted ❌\n",
            "C8035.pdf: 5.56% match - Not Shortlisted ❌\n",
            "C4460.pdf: 6.12% match - Not Shortlisted ❌\n",
            "C3416.pdf: 6.59% match - Not Shortlisted ❌\n",
            "C3922.pdf: 4.29% match - Not Shortlisted ❌\n",
            "\n",
            "\n",
            "💬 Customer Support Ticket Match Results:\n",
            "\n",
            "Software Installation Failure.txt: 4.65% semantic relevance to job description\n",
            "Network Connectivity Issue.txt: 1.19% semantic relevance to job description\n",
            "Device Compatibility Error.txt: 3.49% semantic relevance to job description\n",
            "Payment Gateway Integration Failure.txt: 2.54% semantic relevance to job description\n",
            "Account Synchronization Bug.txt: 1.03% semantic relevance to job description\n"
          ]
        }
      ]
    }
  ]
}